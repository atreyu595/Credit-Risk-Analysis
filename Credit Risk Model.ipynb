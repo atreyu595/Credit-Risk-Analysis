{
 "cells": [
  {
   "cell_type": "code",
   "execution_count": 55,
   "id": "d8b92dc2-c0dc-408a-88ca-cf58b5406afe",
   "metadata": {
    "tags": []
   },
   "outputs": [],
   "source": [
    "import matplotlib.pyplot as plt\n",
    "import pandas as pd\n",
    "import numpy as np\n",
    "import seaborn as sns\n",
    "\n",
    "from sklearn.linear_model import LogisticRegression\n",
    "from sklearn.model_selection import train_test_split\n",
    "from sklearn.model_selection import cross_val_score\n",
    "from sklearn.model_selection import cross_val_predict\n",
    "from sklearn.metrics import confusion_matrix"
   ]
  },
  {
   "cell_type": "code",
   "execution_count": 2,
   "id": "6ee1df80-80f4-4d5d-aaa7-06b8528aede3",
   "metadata": {
    "tags": []
   },
   "outputs": [
    {
     "data": {
      "text/html": [
       "<div>\n",
       "<style scoped>\n",
       "    .dataframe tbody tr th:only-of-type {\n",
       "        vertical-align: middle;\n",
       "    }\n",
       "\n",
       "    .dataframe tbody tr th {\n",
       "        vertical-align: top;\n",
       "    }\n",
       "\n",
       "    .dataframe thead th {\n",
       "        text-align: right;\n",
       "    }\n",
       "</style>\n",
       "<table border=\"1\" class=\"dataframe\">\n",
       "  <thead>\n",
       "    <tr style=\"text-align: right;\">\n",
       "      <th></th>\n",
       "      <th>clientid</th>\n",
       "      <th>income</th>\n",
       "      <th>age</th>\n",
       "      <th>loan</th>\n",
       "      <th>default</th>\n",
       "    </tr>\n",
       "  </thead>\n",
       "  <tbody>\n",
       "    <tr>\n",
       "      <th>0</th>\n",
       "      <td>1</td>\n",
       "      <td>66155.92510</td>\n",
       "      <td>59.017015</td>\n",
       "      <td>8106.532131</td>\n",
       "      <td>0</td>\n",
       "    </tr>\n",
       "    <tr>\n",
       "      <th>1</th>\n",
       "      <td>2</td>\n",
       "      <td>34415.15397</td>\n",
       "      <td>48.117153</td>\n",
       "      <td>6564.745018</td>\n",
       "      <td>0</td>\n",
       "    </tr>\n",
       "    <tr>\n",
       "      <th>2</th>\n",
       "      <td>3</td>\n",
       "      <td>57317.17006</td>\n",
       "      <td>63.108049</td>\n",
       "      <td>8020.953296</td>\n",
       "      <td>0</td>\n",
       "    </tr>\n",
       "    <tr>\n",
       "      <th>3</th>\n",
       "      <td>4</td>\n",
       "      <td>42709.53420</td>\n",
       "      <td>45.751972</td>\n",
       "      <td>6103.642260</td>\n",
       "      <td>0</td>\n",
       "    </tr>\n",
       "    <tr>\n",
       "      <th>4</th>\n",
       "      <td>5</td>\n",
       "      <td>66952.68885</td>\n",
       "      <td>18.584336</td>\n",
       "      <td>8770.099235</td>\n",
       "      <td>1</td>\n",
       "    </tr>\n",
       "    <tr>\n",
       "      <th>...</th>\n",
       "      <td>...</td>\n",
       "      <td>...</td>\n",
       "      <td>...</td>\n",
       "      <td>...</td>\n",
       "      <td>...</td>\n",
       "    </tr>\n",
       "    <tr>\n",
       "      <th>1995</th>\n",
       "      <td>1996</td>\n",
       "      <td>59221.04487</td>\n",
       "      <td>48.518179</td>\n",
       "      <td>1926.729397</td>\n",
       "      <td>0</td>\n",
       "    </tr>\n",
       "    <tr>\n",
       "      <th>1996</th>\n",
       "      <td>1997</td>\n",
       "      <td>69516.12757</td>\n",
       "      <td>23.162104</td>\n",
       "      <td>3503.176156</td>\n",
       "      <td>0</td>\n",
       "    </tr>\n",
       "    <tr>\n",
       "      <th>1997</th>\n",
       "      <td>1998</td>\n",
       "      <td>44311.44926</td>\n",
       "      <td>28.017167</td>\n",
       "      <td>5522.786693</td>\n",
       "      <td>1</td>\n",
       "    </tr>\n",
       "    <tr>\n",
       "      <th>1998</th>\n",
       "      <td>1999</td>\n",
       "      <td>43756.05660</td>\n",
       "      <td>63.971796</td>\n",
       "      <td>1622.722598</td>\n",
       "      <td>0</td>\n",
       "    </tr>\n",
       "    <tr>\n",
       "      <th>1999</th>\n",
       "      <td>2000</td>\n",
       "      <td>69436.57955</td>\n",
       "      <td>56.152617</td>\n",
       "      <td>7378.833599</td>\n",
       "      <td>0</td>\n",
       "    </tr>\n",
       "  </tbody>\n",
       "</table>\n",
       "<p>2000 rows × 5 columns</p>\n",
       "</div>"
      ],
      "text/plain": [
       "      clientid       income        age         loan  default\n",
       "0            1  66155.92510  59.017015  8106.532131        0\n",
       "1            2  34415.15397  48.117153  6564.745018        0\n",
       "2            3  57317.17006  63.108049  8020.953296        0\n",
       "3            4  42709.53420  45.751972  6103.642260        0\n",
       "4            5  66952.68885  18.584336  8770.099235        1\n",
       "...        ...          ...        ...          ...      ...\n",
       "1995      1996  59221.04487  48.518179  1926.729397        0\n",
       "1996      1997  69516.12757  23.162104  3503.176156        0\n",
       "1997      1998  44311.44926  28.017167  5522.786693        1\n",
       "1998      1999  43756.05660  63.971796  1622.722598        0\n",
       "1999      2000  69436.57955  56.152617  7378.833599        0\n",
       "\n",
       "[2000 rows x 5 columns]"
      ]
     },
     "execution_count": 2,
     "metadata": {},
     "output_type": "execute_result"
    }
   ],
   "source": [
    "data = pd.read_csv(r'C:\\Users\\jaspe\\OneDrive\\Documents\\Credit Risk Prediction\\Credit Risk Analysis\\credit_data.csv')\n",
    "data"
   ]
  },
  {
   "cell_type": "code",
   "execution_count": 3,
   "id": "958e55f7-3534-42ac-a3af-97a6784cd156",
   "metadata": {
    "tags": []
   },
   "outputs": [],
   "source": [
    "data = pd.DataFrame(data)"
   ]
  },
  {
   "cell_type": "code",
   "execution_count": 4,
   "id": "f5edae5a-8b22-49b4-bf0a-33b7ed5a6ff1",
   "metadata": {
    "tags": []
   },
   "outputs": [
    {
     "data": {
      "text/html": [
       "<div>\n",
       "<style scoped>\n",
       "    .dataframe tbody tr th:only-of-type {\n",
       "        vertical-align: middle;\n",
       "    }\n",
       "\n",
       "    .dataframe tbody tr th {\n",
       "        vertical-align: top;\n",
       "    }\n",
       "\n",
       "    .dataframe thead th {\n",
       "        text-align: right;\n",
       "    }\n",
       "</style>\n",
       "<table border=\"1\" class=\"dataframe\">\n",
       "  <thead>\n",
       "    <tr style=\"text-align: right;\">\n",
       "      <th></th>\n",
       "      <th>clientid</th>\n",
       "      <th>income</th>\n",
       "      <th>age</th>\n",
       "      <th>loan</th>\n",
       "      <th>default</th>\n",
       "    </tr>\n",
       "  </thead>\n",
       "  <tbody>\n",
       "    <tr>\n",
       "      <th>count</th>\n",
       "      <td>2000.000000</td>\n",
       "      <td>2000.000000</td>\n",
       "      <td>1997.000000</td>\n",
       "      <td>2000.000000</td>\n",
       "      <td>2000.000000</td>\n",
       "    </tr>\n",
       "    <tr>\n",
       "      <th>mean</th>\n",
       "      <td>1000.500000</td>\n",
       "      <td>45331.600018</td>\n",
       "      <td>40.807559</td>\n",
       "      <td>4444.369695</td>\n",
       "      <td>0.141500</td>\n",
       "    </tr>\n",
       "    <tr>\n",
       "      <th>std</th>\n",
       "      <td>577.494589</td>\n",
       "      <td>14326.327119</td>\n",
       "      <td>13.624469</td>\n",
       "      <td>3045.410024</td>\n",
       "      <td>0.348624</td>\n",
       "    </tr>\n",
       "    <tr>\n",
       "      <th>min</th>\n",
       "      <td>1.000000</td>\n",
       "      <td>20014.489470</td>\n",
       "      <td>-52.423280</td>\n",
       "      <td>1.377630</td>\n",
       "      <td>0.000000</td>\n",
       "    </tr>\n",
       "    <tr>\n",
       "      <th>25%</th>\n",
       "      <td>500.750000</td>\n",
       "      <td>32796.459720</td>\n",
       "      <td>28.990415</td>\n",
       "      <td>1939.708847</td>\n",
       "      <td>0.000000</td>\n",
       "    </tr>\n",
       "    <tr>\n",
       "      <th>50%</th>\n",
       "      <td>1000.500000</td>\n",
       "      <td>45789.117310</td>\n",
       "      <td>41.317159</td>\n",
       "      <td>3974.719418</td>\n",
       "      <td>0.000000</td>\n",
       "    </tr>\n",
       "    <tr>\n",
       "      <th>75%</th>\n",
       "      <td>1500.250000</td>\n",
       "      <td>57791.281670</td>\n",
       "      <td>52.587040</td>\n",
       "      <td>6432.410625</td>\n",
       "      <td>0.000000</td>\n",
       "    </tr>\n",
       "    <tr>\n",
       "      <th>max</th>\n",
       "      <td>2000.000000</td>\n",
       "      <td>69995.685580</td>\n",
       "      <td>63.971796</td>\n",
       "      <td>13766.051240</td>\n",
       "      <td>1.000000</td>\n",
       "    </tr>\n",
       "  </tbody>\n",
       "</table>\n",
       "</div>"
      ],
      "text/plain": [
       "          clientid        income          age          loan      default\n",
       "count  2000.000000   2000.000000  1997.000000   2000.000000  2000.000000\n",
       "mean   1000.500000  45331.600018    40.807559   4444.369695     0.141500\n",
       "std     577.494589  14326.327119    13.624469   3045.410024     0.348624\n",
       "min       1.000000  20014.489470   -52.423280      1.377630     0.000000\n",
       "25%     500.750000  32796.459720    28.990415   1939.708847     0.000000\n",
       "50%    1000.500000  45789.117310    41.317159   3974.719418     0.000000\n",
       "75%    1500.250000  57791.281670    52.587040   6432.410625     0.000000\n",
       "max    2000.000000  69995.685580    63.971796  13766.051240     1.000000"
      ]
     },
     "execution_count": 4,
     "metadata": {},
     "output_type": "execute_result"
    }
   ],
   "source": [
    "data.describe()"
   ]
  },
  {
   "cell_type": "code",
   "execution_count": 5,
   "id": "c0fe482f-1f1c-4917-9a4c-f96c24f8272b",
   "metadata": {
    "tags": []
   },
   "outputs": [
    {
     "data": {
      "text/plain": [
       "clientid      int64\n",
       "income      float64\n",
       "age         float64\n",
       "loan        float64\n",
       "default       int64\n",
       "dtype: object"
      ]
     },
     "execution_count": 5,
     "metadata": {},
     "output_type": "execute_result"
    }
   ],
   "source": [
    "data.dtypes"
   ]
  },
  {
   "cell_type": "code",
   "execution_count": 6,
   "id": "85a29163-0c79-45bc-9ff8-ce349afe9b21",
   "metadata": {
    "tags": []
   },
   "outputs": [
    {
     "data": {
      "text/plain": [
       "clientid    0\n",
       "income      0\n",
       "age         3\n",
       "loan        0\n",
       "default     0\n",
       "dtype: int64"
      ]
     },
     "execution_count": 6,
     "metadata": {},
     "output_type": "execute_result"
    }
   ],
   "source": [
    "data.isna().sum()"
   ]
  },
  {
   "cell_type": "code",
   "execution_count": 7,
   "id": "7883e4c2-abc3-4ce2-a02f-51ef03efb9a9",
   "metadata": {
    "tags": []
   },
   "outputs": [
    {
     "data": {
      "text/plain": [
       "array([0, 1], dtype=int64)"
      ]
     },
     "execution_count": 7,
     "metadata": {},
     "output_type": "execute_result"
    }
   ],
   "source": [
    "#Binary\n",
    "#Assume 1 = Give Loan, 0 = Don't give loan\n",
    "data['default'].unique()"
   ]
  },
  {
   "cell_type": "code",
   "execution_count": 8,
   "id": "2596e0c3-372b-4142-a645-7c5f9ab97a7b",
   "metadata": {
    "tags": []
   },
   "outputs": [
    {
     "data": {
      "text/plain": [
       "<Axes: >"
      ]
     },
     "execution_count": 8,
     "metadata": {},
     "output_type": "execute_result"
    },
    {
     "data": {
      "image/png": "[encoded data removed]",
      "text/plain": [
       "<Figure size 640x480 with 1 Axes>"
      ]
     },
     "metadata": {},
     "output_type": "display_data"
    }
   ],
   "source": [
    "sns.boxplot(data['age'])"
   ]
  },
  {
   "cell_type": "markdown",
   "id": "a7fb506f-a53e-4a86-a8c7-7a0ad08b6e6e",
   "metadata": {},
   "source": [
    "Clear evidence of negative values for age, which does not make sense. \n",
    "- There are only 3 observations seen in the data\n",
    "- We can safely remove them as it won't make any significant difference in our analysis\n",
    "\n",
    "We've also seen that we have 3 null values. Due to the normal distribution of our age data points, we can use the mean to impute our missintg data"
   ]
  },
  {
   "cell_type": "code",
   "execution_count": 9,
   "id": "085f4c93-9118-4109-95ca-c58ee5baeb6b",
   "metadata": {
    "tags": []
   },
   "outputs": [],
   "source": [
    "#address null values\n",
    "data['age'].fillna(data['age'].mean(), inplace=True)"
   ]
  },
  {
   "cell_type": "code",
   "execution_count": 10,
   "id": "0ab26f8a-9a1b-462f-9230-0a584aeca5e7",
   "metadata": {
    "tags": []
   },
   "outputs": [
    {
     "data": {
      "text/plain": [
       "clientid    0\n",
       "income      0\n",
       "age         0\n",
       "loan        0\n",
       "default     0\n",
       "dtype: int64"
      ]
     },
     "execution_count": 10,
     "metadata": {},
     "output_type": "execute_result"
    }
   ],
   "source": [
    "data.isna().sum()"
   ]
  },
  {
   "cell_type": "markdown",
   "id": "2e95b267-fd34-4f1c-911f-60640be5302f",
   "metadata": {},
   "source": [
    "Since we only have 3 observations out of 2000, we can safely remove it."
   ]
  },
  {
   "cell_type": "code",
   "execution_count": 11,
   "id": "1cf1c1a7-bf60-44df-b1de-e38f3f8d6995",
   "metadata": {
    "tags": []
   },
   "outputs": [
    {
     "data": {
      "text/plain": [
       "(1997, 5)"
      ]
     },
     "execution_count": 11,
     "metadata": {},
     "output_type": "execute_result"
    }
   ],
   "source": [
    "cleaned_data = data.loc[data['age'] > 0]\n",
    "cleaned_data.shape"
   ]
  },
  {
   "cell_type": "code",
   "execution_count": 12,
   "id": "4b9c5a0f-4229-4d3e-adb7-c2762e43774d",
   "metadata": {
    "tags": []
   },
   "outputs": [
    {
     "data": {
      "text/html": [
       "<div>\n",
       "<style scoped>\n",
       "    .dataframe tbody tr th:only-of-type {\n",
       "        vertical-align: middle;\n",
       "    }\n",
       "\n",
       "    .dataframe tbody tr th {\n",
       "        vertical-align: top;\n",
       "    }\n",
       "\n",
       "    .dataframe thead th {\n",
       "        text-align: right;\n",
       "    }\n",
       "</style>\n",
       "<table border=\"1\" class=\"dataframe\">\n",
       "  <thead>\n",
       "    <tr style=\"text-align: right;\">\n",
       "      <th></th>\n",
       "      <th>clientid</th>\n",
       "      <th>income</th>\n",
       "      <th>age</th>\n",
       "      <th>loan</th>\n",
       "      <th>default</th>\n",
       "    </tr>\n",
       "  </thead>\n",
       "  <tbody>\n",
       "    <tr>\n",
       "      <th>clientid</th>\n",
       "      <td>1.000000</td>\n",
       "      <td>0.039980</td>\n",
       "      <td>-0.030488</td>\n",
       "      <td>0.020231</td>\n",
       "      <td>-0.021228</td>\n",
       "    </tr>\n",
       "    <tr>\n",
       "      <th>income</th>\n",
       "      <td>0.039980</td>\n",
       "      <td>1.000000</td>\n",
       "      <td>-0.033226</td>\n",
       "      <td>0.440652</td>\n",
       "      <td>0.002428</td>\n",
       "    </tr>\n",
       "    <tr>\n",
       "      <th>age</th>\n",
       "      <td>-0.030488</td>\n",
       "      <td>-0.033226</td>\n",
       "      <td>1.000000</td>\n",
       "      <td>0.006687</td>\n",
       "      <td>-0.445187</td>\n",
       "    </tr>\n",
       "    <tr>\n",
       "      <th>loan</th>\n",
       "      <td>0.020231</td>\n",
       "      <td>0.440652</td>\n",
       "      <td>0.006687</td>\n",
       "      <td>1.000000</td>\n",
       "      <td>0.377779</td>\n",
       "    </tr>\n",
       "    <tr>\n",
       "      <th>default</th>\n",
       "      <td>-0.021228</td>\n",
       "      <td>0.002428</td>\n",
       "      <td>-0.445187</td>\n",
       "      <td>0.377779</td>\n",
       "      <td>1.000000</td>\n",
       "    </tr>\n",
       "  </tbody>\n",
       "</table>\n",
       "</div>"
      ],
      "text/plain": [
       "          clientid    income       age      loan   default\n",
       "clientid  1.000000  0.039980 -0.030488  0.020231 -0.021228\n",
       "income    0.039980  1.000000 -0.033226  0.440652  0.002428\n",
       "age      -0.030488 -0.033226  1.000000  0.006687 -0.445187\n",
       "loan      0.020231  0.440652  0.006687  1.000000  0.377779\n",
       "default  -0.021228  0.002428 -0.445187  0.377779  1.000000"
      ]
     },
     "execution_count": 12,
     "metadata": {},
     "output_type": "execute_result"
    }
   ],
   "source": [
    "cleaned_data.corr()"
   ]
  },
  {
   "cell_type": "markdown",
   "id": "d8ed6d49-3e0d-4b2d-8ecb-2183f18fcc1b",
   "metadata": {},
   "source": [
    "No clear sign of multicollinearity -> Good"
   ]
  },
  {
   "cell_type": "code",
   "execution_count": 13,
   "id": "74ac77eb-cf4f-44b9-81ad-a66249aee62c",
   "metadata": {
    "tags": []
   },
   "outputs": [
    {
     "data": {
      "text/plain": [
       "<Axes: xlabel='income', ylabel='loan'>"
      ]
     },
     "execution_count": 13,
     "metadata": {},
     "output_type": "execute_result"
    },
    {
     "data": {
      "image/png": "[encoded data removed]",
      "text/plain": [
       "<Figure size 640x480 with 1 Axes>"
      ]
     },
     "metadata": {},
     "output_type": "display_data"
    }
   ],
   "source": [
    "sns.scatterplot(x = cleaned_data['income'], y = cleaned_data['loan'])"
   ]
  },
  {
   "cell_type": "markdown",
   "id": "546f809c-826d-4250-9b0d-54ed90b4f62c",
   "metadata": {},
   "source": [
    "Slightly weak linear relationship between loan and income"
   ]
  },
  {
   "cell_type": "markdown",
   "id": "3722cf8c-83e8-4f20-baf9-6905309e6e7b",
   "metadata": {
    "tags": []
   },
   "source": [
    "Let's simplify our analysis in terms of relationships. We'll create 3 buckets for our ages:\n",
    "- Age <= 25: Young Age\n",
    "- Age > 25 and Age < 50: Middle Age\n",
    "- Age > 50: Old Age\n"
   ]
  },
  {
   "cell_type": "code",
   "execution_count": 14,
   "id": "131de884-1cc1-40a9-a7a8-b2814b6004bb",
   "metadata": {
    "tags": []
   },
   "outputs": [],
   "source": [
    "age_buckets = []  # Renamed to avoid confusion with the function name\n",
    "for age in range(len(cleaned_data['age'])):\n",
    "    if age <= 30:\n",
    "        age_buckets.append('Young')\n",
    "    elif 30 < age < 50:  # Simplified condition\n",
    "        age_buckets.append('Middle')\n",
    "    else:\n",
    "        age_buckets.append('Old')"
   ]
  },
  {
   "cell_type": "code",
   "execution_count": 15,
   "id": "831c17bd-85a6-44d3-bf5d-e16aa7d5c486",
   "metadata": {
    "tags": []
   },
   "outputs": [
    {
     "name": "stderr",
     "output_type": "stream",
     "text": [
      "C:\\Users\\jaspe\\AppData\\Local\\Temp\\ipykernel_17976\\1288285953.py:2: SettingWithCopyWarning: \n",
      "A value is trying to be set on a copy of a slice from a DataFrame.\n",
      "Try using .loc[row_indexer,col_indexer] = value instead\n",
      "\n",
      "See the caveats in the documentation: https://pandas.pydata.org/pandas-docs/stable/user_guide/indexing.html#returning-a-view-versus-a-copy\n",
      "  cleaned_data['age_bucket'] = age_buckets\n"
     ]
    }
   ],
   "source": [
    "#Create new column\n",
    "cleaned_data['age_bucket'] = age_buckets"
   ]
  },
  {
   "cell_type": "code",
   "execution_count": 16,
   "id": "b518f0f4-67b2-4835-8dd2-0bd1c8720bc5",
   "metadata": {
    "tags": []
   },
   "outputs": [
    {
     "data": {
      "text/html": [
       "<div>\n",
       "<style scoped>\n",
       "    .dataframe tbody tr th:only-of-type {\n",
       "        vertical-align: middle;\n",
       "    }\n",
       "\n",
       "    .dataframe tbody tr th {\n",
       "        vertical-align: top;\n",
       "    }\n",
       "\n",
       "    .dataframe thead th {\n",
       "        text-align: right;\n",
       "    }\n",
       "</style>\n",
       "<table border=\"1\" class=\"dataframe\">\n",
       "  <thead>\n",
       "    <tr style=\"text-align: right;\">\n",
       "      <th></th>\n",
       "      <th>clientid</th>\n",
       "      <th>income</th>\n",
       "      <th>age</th>\n",
       "      <th>loan</th>\n",
       "      <th>default</th>\n",
       "      <th>age_bucket</th>\n",
       "    </tr>\n",
       "  </thead>\n",
       "  <tbody>\n",
       "    <tr>\n",
       "      <th>0</th>\n",
       "      <td>1</td>\n",
       "      <td>66155.92510</td>\n",
       "      <td>59.017015</td>\n",
       "      <td>8106.532131</td>\n",
       "      <td>0</td>\n",
       "      <td>Young</td>\n",
       "    </tr>\n",
       "    <tr>\n",
       "      <th>1</th>\n",
       "      <td>2</td>\n",
       "      <td>34415.15397</td>\n",
       "      <td>48.117153</td>\n",
       "      <td>6564.745018</td>\n",
       "      <td>0</td>\n",
       "      <td>Young</td>\n",
       "    </tr>\n",
       "    <tr>\n",
       "      <th>2</th>\n",
       "      <td>3</td>\n",
       "      <td>57317.17006</td>\n",
       "      <td>63.108049</td>\n",
       "      <td>8020.953296</td>\n",
       "      <td>0</td>\n",
       "      <td>Young</td>\n",
       "    </tr>\n",
       "    <tr>\n",
       "      <th>3</th>\n",
       "      <td>4</td>\n",
       "      <td>42709.53420</td>\n",
       "      <td>45.751972</td>\n",
       "      <td>6103.642260</td>\n",
       "      <td>0</td>\n",
       "      <td>Young</td>\n",
       "    </tr>\n",
       "    <tr>\n",
       "      <th>4</th>\n",
       "      <td>5</td>\n",
       "      <td>66952.68885</td>\n",
       "      <td>18.584336</td>\n",
       "      <td>8770.099235</td>\n",
       "      <td>1</td>\n",
       "      <td>Young</td>\n",
       "    </tr>\n",
       "    <tr>\n",
       "      <th>...</th>\n",
       "      <td>...</td>\n",
       "      <td>...</td>\n",
       "      <td>...</td>\n",
       "      <td>...</td>\n",
       "      <td>...</td>\n",
       "      <td>...</td>\n",
       "    </tr>\n",
       "    <tr>\n",
       "      <th>1995</th>\n",
       "      <td>1996</td>\n",
       "      <td>59221.04487</td>\n",
       "      <td>48.518179</td>\n",
       "      <td>1926.729397</td>\n",
       "      <td>0</td>\n",
       "      <td>Old</td>\n",
       "    </tr>\n",
       "    <tr>\n",
       "      <th>1996</th>\n",
       "      <td>1997</td>\n",
       "      <td>69516.12757</td>\n",
       "      <td>23.162104</td>\n",
       "      <td>3503.176156</td>\n",
       "      <td>0</td>\n",
       "      <td>Old</td>\n",
       "    </tr>\n",
       "    <tr>\n",
       "      <th>1997</th>\n",
       "      <td>1998</td>\n",
       "      <td>44311.44926</td>\n",
       "      <td>28.017167</td>\n",
       "      <td>5522.786693</td>\n",
       "      <td>1</td>\n",
       "      <td>Old</td>\n",
       "    </tr>\n",
       "    <tr>\n",
       "      <th>1998</th>\n",
       "      <td>1999</td>\n",
       "      <td>43756.05660</td>\n",
       "      <td>63.971796</td>\n",
       "      <td>1622.722598</td>\n",
       "      <td>0</td>\n",
       "      <td>Old</td>\n",
       "    </tr>\n",
       "    <tr>\n",
       "      <th>1999</th>\n",
       "      <td>2000</td>\n",
       "      <td>69436.57955</td>\n",
       "      <td>56.152617</td>\n",
       "      <td>7378.833599</td>\n",
       "      <td>0</td>\n",
       "      <td>Old</td>\n",
       "    </tr>\n",
       "  </tbody>\n",
       "</table>\n",
       "<p>1997 rows × 6 columns</p>\n",
       "</div>"
      ],
      "text/plain": [
       "      clientid       income        age         loan  default age_bucket\n",
       "0            1  66155.92510  59.017015  8106.532131        0      Young\n",
       "1            2  34415.15397  48.117153  6564.745018        0      Young\n",
       "2            3  57317.17006  63.108049  8020.953296        0      Young\n",
       "3            4  42709.53420  45.751972  6103.642260        0      Young\n",
       "4            5  66952.68885  18.584336  8770.099235        1      Young\n",
       "...        ...          ...        ...          ...      ...        ...\n",
       "1995      1996  59221.04487  48.518179  1926.729397        0        Old\n",
       "1996      1997  69516.12757  23.162104  3503.176156        0        Old\n",
       "1997      1998  44311.44926  28.017167  5522.786693        1        Old\n",
       "1998      1999  43756.05660  63.971796  1622.722598        0        Old\n",
       "1999      2000  69436.57955  56.152617  7378.833599        0        Old\n",
       "\n",
       "[1997 rows x 6 columns]"
      ]
     },
     "execution_count": 16,
     "metadata": {},
     "output_type": "execute_result"
    }
   ],
   "source": [
    "cleaned_data"
   ]
  },
  {
   "cell_type": "code",
   "execution_count": 17,
   "id": "55b876f5-bc34-405a-85de-871ddc27f0ae",
   "metadata": {
    "tags": []
   },
   "outputs": [
    {
     "data": {
      "text/plain": [
       "<Axes: xlabel='age_bucket'>"
      ]
     },
     "execution_count": 17,
     "metadata": {},
     "output_type": "execute_result"
    },
    {
     "data": {
      "image/png": "[encoded data removed]",
      "text/plain": [
       "<Figure size 640x480 with 1 Axes>"
      ]
     },
     "metadata": {},
     "output_type": "display_data"
    }
   ],
   "source": [
    "cleaned_data['age_bucket'].value_counts().plot(kind='bar')"
   ]
  },
  {
   "cell_type": "markdown",
   "id": "4d7c7313-12bd-4b84-bf38-c24a8e24574e",
   "metadata": {},
   "source": [
    "There seems to be"
   ]
  },
  {
   "cell_type": "markdown",
   "id": "8d526563-c7be-405a-868a-8f4c96ac6615",
   "metadata": {},
   "source": [
    "Now that we have some key variables to play let's ask the following questions:\n",
    "- What's the average income and loan for each age bucket?\n",
    "- What's the maximum income and loan for each age bucket?\n",
    "- What's the minimum income and loan for each age bucket?\n",
    "- What's the distribution of incomes between each age bucket?\n",
    "- What's the distribution of loans between each age bucket?\n",
    "- What's the frequency of loans being give to each age bucket?"
   ]
  },
  {
   "cell_type": "code",
   "execution_count": 18,
   "id": "8f3fad7f-6cde-47ac-97d1-322a65aeea85",
   "metadata": {
    "tags": []
   },
   "outputs": [
    {
     "data": {
      "text/html": [
       "<div>\n",
       "<style scoped>\n",
       "    .dataframe tbody tr th:only-of-type {\n",
       "        vertical-align: middle;\n",
       "    }\n",
       "\n",
       "    .dataframe tbody tr th {\n",
       "        vertical-align: top;\n",
       "    }\n",
       "\n",
       "    .dataframe thead th {\n",
       "        text-align: right;\n",
       "    }\n",
       "</style>\n",
       "<table border=\"1\" class=\"dataframe\">\n",
       "  <thead>\n",
       "    <tr style=\"text-align: right;\">\n",
       "      <th></th>\n",
       "      <th>income</th>\n",
       "      <th>loan</th>\n",
       "    </tr>\n",
       "    <tr>\n",
       "      <th>age_bucket</th>\n",
       "      <th></th>\n",
       "      <th></th>\n",
       "    </tr>\n",
       "  </thead>\n",
       "  <tbody>\n",
       "    <tr>\n",
       "      <th>Middle</th>\n",
       "      <td>45143.093305</td>\n",
       "      <td>3238.287932</td>\n",
       "    </tr>\n",
       "    <tr>\n",
       "      <th>Old</th>\n",
       "      <td>45319.959617</td>\n",
       "      <td>4447.104131</td>\n",
       "    </tr>\n",
       "    <tr>\n",
       "      <th>Young</th>\n",
       "      <td>45855.919427</td>\n",
       "      <td>4867.211123</td>\n",
       "    </tr>\n",
       "  </tbody>\n",
       "</table>\n",
       "</div>"
      ],
      "text/plain": [
       "                  income         loan\n",
       "age_bucket                           \n",
       "Middle      45143.093305  3238.287932\n",
       "Old         45319.959617  4447.104131\n",
       "Young       45855.919427  4867.211123"
      ]
     },
     "execution_count": 18,
     "metadata": {},
     "output_type": "execute_result"
    }
   ],
   "source": [
    "#Whats the average income for each age bucket\n",
    "cleaned_data.groupby('age_bucket')[['income', 'loan']].mean()"
   ]
  },
  {
   "cell_type": "code",
   "execution_count": 19,
   "id": "bdc94263-e065-49c9-8acd-a61d51501f44",
   "metadata": {
    "tags": []
   },
   "outputs": [
    {
     "data": {
      "text/html": [
       "<div>\n",
       "<style scoped>\n",
       "    .dataframe tbody tr th:only-of-type {\n",
       "        vertical-align: middle;\n",
       "    }\n",
       "\n",
       "    .dataframe tbody tr th {\n",
       "        vertical-align: top;\n",
       "    }\n",
       "\n",
       "    .dataframe thead th {\n",
       "        text-align: right;\n",
       "    }\n",
       "</style>\n",
       "<table border=\"1\" class=\"dataframe\">\n",
       "  <thead>\n",
       "    <tr style=\"text-align: right;\">\n",
       "      <th></th>\n",
       "      <th>income</th>\n",
       "      <th>loan</th>\n",
       "    </tr>\n",
       "    <tr>\n",
       "      <th>age_bucket</th>\n",
       "      <th></th>\n",
       "      <th></th>\n",
       "    </tr>\n",
       "  </thead>\n",
       "  <tbody>\n",
       "    <tr>\n",
       "      <th>Middle</th>\n",
       "      <td>68427.16311</td>\n",
       "      <td>7035.589107</td>\n",
       "    </tr>\n",
       "    <tr>\n",
       "      <th>Old</th>\n",
       "      <td>69995.68558</td>\n",
       "      <td>13766.051240</td>\n",
       "    </tr>\n",
       "    <tr>\n",
       "      <th>Young</th>\n",
       "      <td>67252.90061</td>\n",
       "      <td>10871.186790</td>\n",
       "    </tr>\n",
       "  </tbody>\n",
       "</table>\n",
       "</div>"
      ],
      "text/plain": [
       "                 income          loan\n",
       "age_bucket                           \n",
       "Middle      68427.16311   7035.589107\n",
       "Old         69995.68558  13766.051240\n",
       "Young       67252.90061  10871.186790"
      ]
     },
     "execution_count": 19,
     "metadata": {},
     "output_type": "execute_result"
    }
   ],
   "source": [
    "#Whats the maximum income for each age bucket\n",
    "cleaned_data.groupby('age_bucket')[['income', 'loan']].max()"
   ]
  },
  {
   "cell_type": "code",
   "execution_count": 20,
   "id": "da02ef8c-9698-4be1-84b6-989243d3bbab",
   "metadata": {
    "tags": []
   },
   "outputs": [
    {
     "data": {
      "text/html": [
       "<div>\n",
       "<style scoped>\n",
       "    .dataframe tbody tr th:only-of-type {\n",
       "        vertical-align: middle;\n",
       "    }\n",
       "\n",
       "    .dataframe tbody tr th {\n",
       "        vertical-align: top;\n",
       "    }\n",
       "\n",
       "    .dataframe thead th {\n",
       "        text-align: right;\n",
       "    }\n",
       "</style>\n",
       "<table border=\"1\" class=\"dataframe\">\n",
       "  <thead>\n",
       "    <tr style=\"text-align: right;\">\n",
       "      <th></th>\n",
       "      <th>income</th>\n",
       "      <th>loan</th>\n",
       "    </tr>\n",
       "    <tr>\n",
       "      <th>age_bucket</th>\n",
       "      <th></th>\n",
       "      <th></th>\n",
       "    </tr>\n",
       "  </thead>\n",
       "  <tbody>\n",
       "    <tr>\n",
       "      <th>Middle</th>\n",
       "      <td>24381.95345</td>\n",
       "      <td>341.146966</td>\n",
       "    </tr>\n",
       "    <tr>\n",
       "      <th>Old</th>\n",
       "      <td>20014.48947</td>\n",
       "      <td>1.377630</td>\n",
       "    </tr>\n",
       "    <tr>\n",
       "      <th>Young</th>\n",
       "      <td>20542.36507</td>\n",
       "      <td>15.498598</td>\n",
       "    </tr>\n",
       "  </tbody>\n",
       "</table>\n",
       "</div>"
      ],
      "text/plain": [
       "                 income        loan\n",
       "age_bucket                         \n",
       "Middle      24381.95345  341.146966\n",
       "Old         20014.48947    1.377630\n",
       "Young       20542.36507   15.498598"
      ]
     },
     "execution_count": 20,
     "metadata": {},
     "output_type": "execute_result"
    }
   ],
   "source": [
    "#Whats the minimum income for each age bucket\n",
    "cleaned_data.groupby('age_bucket')[['income', 'loan']].min()"
   ]
  },
  {
   "cell_type": "markdown",
   "id": "5c031c39-9d2d-497d-ba16-f2c78f36168f",
   "metadata": {},
   "source": [
    "Odd? There seems to be 1.37 minimum loan given to a single record for the old category? Is there perhaps more we need to know, let's delve deeper"
   ]
  },
  {
   "cell_type": "code",
   "execution_count": 21,
   "id": "6558c43f-2f5b-4cdd-8652-87240ad82fb1",
   "metadata": {
    "tags": []
   },
   "outputs": [
    {
     "data": {
      "text/html": [
       "<div>\n",
       "<style scoped>\n",
       "    .dataframe tbody tr th:only-of-type {\n",
       "        vertical-align: middle;\n",
       "    }\n",
       "\n",
       "    .dataframe tbody tr th {\n",
       "        vertical-align: top;\n",
       "    }\n",
       "\n",
       "    .dataframe thead th {\n",
       "        text-align: right;\n",
       "    }\n",
       "</style>\n",
       "<table border=\"1\" class=\"dataframe\">\n",
       "  <thead>\n",
       "    <tr style=\"text-align: right;\">\n",
       "      <th></th>\n",
       "      <th>clientid</th>\n",
       "      <th>income</th>\n",
       "      <th>age</th>\n",
       "      <th>loan</th>\n",
       "      <th>default</th>\n",
       "      <th>age_bucket</th>\n",
       "    </tr>\n",
       "  </thead>\n",
       "  <tbody>\n",
       "    <tr>\n",
       "      <th>66</th>\n",
       "      <td>67</td>\n",
       "      <td>37521.01717</td>\n",
       "      <td>60.541077</td>\n",
       "      <td>8.012076</td>\n",
       "      <td>0</td>\n",
       "      <td>Old</td>\n",
       "    </tr>\n",
       "    <tr>\n",
       "      <th>105</th>\n",
       "      <td>106</td>\n",
       "      <td>47634.54955</td>\n",
       "      <td>44.294871</td>\n",
       "      <td>141.703818</td>\n",
       "      <td>0</td>\n",
       "      <td>Old</td>\n",
       "    </tr>\n",
       "    <tr>\n",
       "      <th>111</th>\n",
       "      <td>112</td>\n",
       "      <td>41631.66630</td>\n",
       "      <td>53.047655</td>\n",
       "      <td>106.090747</td>\n",
       "      <td>0</td>\n",
       "      <td>Old</td>\n",
       "    </tr>\n",
       "    <tr>\n",
       "      <th>117</th>\n",
       "      <td>118</td>\n",
       "      <td>63062.14210</td>\n",
       "      <td>26.585778</td>\n",
       "      <td>56.166164</td>\n",
       "      <td>0</td>\n",
       "      <td>Old</td>\n",
       "    </tr>\n",
       "    <tr>\n",
       "      <th>187</th>\n",
       "      <td>188</td>\n",
       "      <td>35032.64960</td>\n",
       "      <td>56.724626</td>\n",
       "      <td>135.931684</td>\n",
       "      <td>0</td>\n",
       "      <td>Old</td>\n",
       "    </tr>\n",
       "    <tr>\n",
       "      <th>304</th>\n",
       "      <td>305</td>\n",
       "      <td>51589.28275</td>\n",
       "      <td>50.313465</td>\n",
       "      <td>56.990974</td>\n",
       "      <td>0</td>\n",
       "      <td>Old</td>\n",
       "    </tr>\n",
       "    <tr>\n",
       "      <th>320</th>\n",
       "      <td>321</td>\n",
       "      <td>36132.42388</td>\n",
       "      <td>34.294260</td>\n",
       "      <td>99.449591</td>\n",
       "      <td>0</td>\n",
       "      <td>Old</td>\n",
       "    </tr>\n",
       "    <tr>\n",
       "      <th>431</th>\n",
       "      <td>432</td>\n",
       "      <td>30594.17656</td>\n",
       "      <td>50.043820</td>\n",
       "      <td>118.342142</td>\n",
       "      <td>0</td>\n",
       "      <td>Old</td>\n",
       "    </tr>\n",
       "    <tr>\n",
       "      <th>465</th>\n",
       "      <td>466</td>\n",
       "      <td>63806.32925</td>\n",
       "      <td>56.632166</td>\n",
       "      <td>114.499967</td>\n",
       "      <td>0</td>\n",
       "      <td>Old</td>\n",
       "    </tr>\n",
       "    <tr>\n",
       "      <th>560</th>\n",
       "      <td>561</td>\n",
       "      <td>40053.72227</td>\n",
       "      <td>27.938480</td>\n",
       "      <td>44.527246</td>\n",
       "      <td>0</td>\n",
       "      <td>Old</td>\n",
       "    </tr>\n",
       "    <tr>\n",
       "      <th>667</th>\n",
       "      <td>668</td>\n",
       "      <td>63914.22537</td>\n",
       "      <td>26.349742</td>\n",
       "      <td>139.314572</td>\n",
       "      <td>0</td>\n",
       "      <td>Old</td>\n",
       "    </tr>\n",
       "    <tr>\n",
       "      <th>733</th>\n",
       "      <td>734</td>\n",
       "      <td>22581.13397</td>\n",
       "      <td>40.548862</td>\n",
       "      <td>34.285106</td>\n",
       "      <td>0</td>\n",
       "      <td>Old</td>\n",
       "    </tr>\n",
       "    <tr>\n",
       "      <th>837</th>\n",
       "      <td>838</td>\n",
       "      <td>24994.77820</td>\n",
       "      <td>34.723360</td>\n",
       "      <td>51.640260</td>\n",
       "      <td>0</td>\n",
       "      <td>Old</td>\n",
       "    </tr>\n",
       "    <tr>\n",
       "      <th>865</th>\n",
       "      <td>866</td>\n",
       "      <td>28072.60436</td>\n",
       "      <td>54.142548</td>\n",
       "      <td>1.377630</td>\n",
       "      <td>0</td>\n",
       "      <td>Old</td>\n",
       "    </tr>\n",
       "    <tr>\n",
       "      <th>918</th>\n",
       "      <td>919</td>\n",
       "      <td>23973.68759</td>\n",
       "      <td>55.288298</td>\n",
       "      <td>95.460722</td>\n",
       "      <td>0</td>\n",
       "      <td>Old</td>\n",
       "    </tr>\n",
       "    <tr>\n",
       "      <th>923</th>\n",
       "      <td>924</td>\n",
       "      <td>49369.70415</td>\n",
       "      <td>51.373417</td>\n",
       "      <td>109.379623</td>\n",
       "      <td>0</td>\n",
       "      <td>Old</td>\n",
       "    </tr>\n",
       "    <tr>\n",
       "      <th>979</th>\n",
       "      <td>980</td>\n",
       "      <td>62842.06439</td>\n",
       "      <td>62.197079</td>\n",
       "      <td>107.597232</td>\n",
       "      <td>0</td>\n",
       "      <td>Old</td>\n",
       "    </tr>\n",
       "    <tr>\n",
       "      <th>990</th>\n",
       "      <td>991</td>\n",
       "      <td>53638.64595</td>\n",
       "      <td>44.027374</td>\n",
       "      <td>109.478854</td>\n",
       "      <td>0</td>\n",
       "      <td>Old</td>\n",
       "    </tr>\n",
       "    <tr>\n",
       "      <th>1030</th>\n",
       "      <td>1031</td>\n",
       "      <td>50533.57195</td>\n",
       "      <td>56.631064</td>\n",
       "      <td>117.712587</td>\n",
       "      <td>0</td>\n",
       "      <td>Old</td>\n",
       "    </tr>\n",
       "    <tr>\n",
       "      <th>1054</th>\n",
       "      <td>1055</td>\n",
       "      <td>24820.79247</td>\n",
       "      <td>38.244017</td>\n",
       "      <td>51.949243</td>\n",
       "      <td>0</td>\n",
       "      <td>Old</td>\n",
       "    </tr>\n",
       "    <tr>\n",
       "      <th>1111</th>\n",
       "      <td>1112</td>\n",
       "      <td>34760.01932</td>\n",
       "      <td>34.260302</td>\n",
       "      <td>28.882534</td>\n",
       "      <td>0</td>\n",
       "      <td>Old</td>\n",
       "    </tr>\n",
       "    <tr>\n",
       "      <th>1146</th>\n",
       "      <td>1147</td>\n",
       "      <td>26558.36106</td>\n",
       "      <td>57.833365</td>\n",
       "      <td>22.327933</td>\n",
       "      <td>0</td>\n",
       "      <td>Old</td>\n",
       "    </tr>\n",
       "    <tr>\n",
       "      <th>1199</th>\n",
       "      <td>1200</td>\n",
       "      <td>26267.52942</td>\n",
       "      <td>34.496386</td>\n",
       "      <td>59.469163</td>\n",
       "      <td>0</td>\n",
       "      <td>Old</td>\n",
       "    </tr>\n",
       "    <tr>\n",
       "      <th>1309</th>\n",
       "      <td>1310</td>\n",
       "      <td>20583.61217</td>\n",
       "      <td>21.989767</td>\n",
       "      <td>53.186207</td>\n",
       "      <td>0</td>\n",
       "      <td>Old</td>\n",
       "    </tr>\n",
       "    <tr>\n",
       "      <th>1329</th>\n",
       "      <td>1330</td>\n",
       "      <td>35583.61854</td>\n",
       "      <td>63.054397</td>\n",
       "      <td>27.252482</td>\n",
       "      <td>0</td>\n",
       "      <td>Old</td>\n",
       "    </tr>\n",
       "    <tr>\n",
       "      <th>1439</th>\n",
       "      <td>1440</td>\n",
       "      <td>29237.25620</td>\n",
       "      <td>24.597574</td>\n",
       "      <td>23.916428</td>\n",
       "      <td>0</td>\n",
       "      <td>Old</td>\n",
       "    </tr>\n",
       "    <tr>\n",
       "      <th>1532</th>\n",
       "      <td>1533</td>\n",
       "      <td>54468.27921</td>\n",
       "      <td>23.876815</td>\n",
       "      <td>68.625456</td>\n",
       "      <td>0</td>\n",
       "      <td>Old</td>\n",
       "    </tr>\n",
       "    <tr>\n",
       "      <th>1675</th>\n",
       "      <td>1676</td>\n",
       "      <td>65660.94854</td>\n",
       "      <td>22.194990</td>\n",
       "      <td>93.152642</td>\n",
       "      <td>0</td>\n",
       "      <td>Old</td>\n",
       "    </tr>\n",
       "    <tr>\n",
       "      <th>1753</th>\n",
       "      <td>1754</td>\n",
       "      <td>62020.46813</td>\n",
       "      <td>56.653537</td>\n",
       "      <td>114.209888</td>\n",
       "      <td>0</td>\n",
       "      <td>Old</td>\n",
       "    </tr>\n",
       "    <tr>\n",
       "      <th>1878</th>\n",
       "      <td>1879</td>\n",
       "      <td>24402.44017</td>\n",
       "      <td>52.027597</td>\n",
       "      <td>101.218538</td>\n",
       "      <td>0</td>\n",
       "      <td>Old</td>\n",
       "    </tr>\n",
       "    <tr>\n",
       "      <th>1883</th>\n",
       "      <td>1884</td>\n",
       "      <td>22748.03304</td>\n",
       "      <td>26.940717</td>\n",
       "      <td>108.629911</td>\n",
       "      <td>0</td>\n",
       "      <td>Old</td>\n",
       "    </tr>\n",
       "    <tr>\n",
       "      <th>1896</th>\n",
       "      <td>1897</td>\n",
       "      <td>35993.98976</td>\n",
       "      <td>53.939021</td>\n",
       "      <td>93.895805</td>\n",
       "      <td>0</td>\n",
       "      <td>Old</td>\n",
       "    </tr>\n",
       "    <tr>\n",
       "      <th>1899</th>\n",
       "      <td>1900</td>\n",
       "      <td>35784.66349</td>\n",
       "      <td>46.547870</td>\n",
       "      <td>110.202890</td>\n",
       "      <td>0</td>\n",
       "      <td>Old</td>\n",
       "    </tr>\n",
       "    <tr>\n",
       "      <th>1913</th>\n",
       "      <td>1914</td>\n",
       "      <td>69992.33271</td>\n",
       "      <td>41.771231</td>\n",
       "      <td>52.872190</td>\n",
       "      <td>0</td>\n",
       "      <td>Old</td>\n",
       "    </tr>\n",
       "    <tr>\n",
       "      <th>1915</th>\n",
       "      <td>1916</td>\n",
       "      <td>48015.55474</td>\n",
       "      <td>28.241796</td>\n",
       "      <td>54.008242</td>\n",
       "      <td>0</td>\n",
       "      <td>Old</td>\n",
       "    </tr>\n",
       "  </tbody>\n",
       "</table>\n",
       "</div>"
      ],
      "text/plain": [
       "      clientid       income        age        loan  default age_bucket\n",
       "66          67  37521.01717  60.541077    8.012076        0        Old\n",
       "105        106  47634.54955  44.294871  141.703818        0        Old\n",
       "111        112  41631.66630  53.047655  106.090747        0        Old\n",
       "117        118  63062.14210  26.585778   56.166164        0        Old\n",
       "187        188  35032.64960  56.724626  135.931684        0        Old\n",
       "304        305  51589.28275  50.313465   56.990974        0        Old\n",
       "320        321  36132.42388  34.294260   99.449591        0        Old\n",
       "431        432  30594.17656  50.043820  118.342142        0        Old\n",
       "465        466  63806.32925  56.632166  114.499967        0        Old\n",
       "560        561  40053.72227  27.938480   44.527246        0        Old\n",
       "667        668  63914.22537  26.349742  139.314572        0        Old\n",
       "733        734  22581.13397  40.548862   34.285106        0        Old\n",
       "837        838  24994.77820  34.723360   51.640260        0        Old\n",
       "865        866  28072.60436  54.142548    1.377630        0        Old\n",
       "918        919  23973.68759  55.288298   95.460722        0        Old\n",
       "923        924  49369.70415  51.373417  109.379623        0        Old\n",
       "979        980  62842.06439  62.197079  107.597232        0        Old\n",
       "990        991  53638.64595  44.027374  109.478854        0        Old\n",
       "1030      1031  50533.57195  56.631064  117.712587        0        Old\n",
       "1054      1055  24820.79247  38.244017   51.949243        0        Old\n",
       "1111      1112  34760.01932  34.260302   28.882534        0        Old\n",
       "1146      1147  26558.36106  57.833365   22.327933        0        Old\n",
       "1199      1200  26267.52942  34.496386   59.469163        0        Old\n",
       "1309      1310  20583.61217  21.989767   53.186207        0        Old\n",
       "1329      1330  35583.61854  63.054397   27.252482        0        Old\n",
       "1439      1440  29237.25620  24.597574   23.916428        0        Old\n",
       "1532      1533  54468.27921  23.876815   68.625456        0        Old\n",
       "1675      1676  65660.94854  22.194990   93.152642        0        Old\n",
       "1753      1754  62020.46813  56.653537  114.209888        0        Old\n",
       "1878      1879  24402.44017  52.027597  101.218538        0        Old\n",
       "1883      1884  22748.03304  26.940717  108.629911        0        Old\n",
       "1896      1897  35993.98976  53.939021   93.895805        0        Old\n",
       "1899      1900  35784.66349  46.547870  110.202890        0        Old\n",
       "1913      1914  69992.33271  41.771231   52.872190        0        Old\n",
       "1915      1916  48015.55474  28.241796   54.008242        0        Old"
      ]
     },
     "execution_count": 21,
     "metadata": {},
     "output_type": "execute_result"
    }
   ],
   "source": [
    "cleaned_data.loc[(cleaned_data['age_bucket']=='Old') & (cleaned_data['loan'] < 150)]"
   ]
  },
  {
   "cell_type": "markdown",
   "id": "c30c898d-6dbb-46db-aa04-33a54d9d7db4",
   "metadata": {},
   "source": [
    "Typically, i would clarify this as it maybe an error, 8 dollars in principal amount does not make sense. For the purpose of this excercise we will loan amounts less than $10 (which does seem weird)"
   ]
  },
  {
   "cell_type": "code",
   "execution_count": 153,
   "id": "58a29143-1149-4201-9f67-04a0088aa614",
   "metadata": {
    "tags": []
   },
   "outputs": [
    {
     "data": {
      "text/html": [
       "<div>\n",
       "<style scoped>\n",
       "    .dataframe tbody tr th:only-of-type {\n",
       "        vertical-align: middle;\n",
       "    }\n",
       "\n",
       "    .dataframe tbody tr th {\n",
       "        vertical-align: top;\n",
       "    }\n",
       "\n",
       "    .dataframe thead th {\n",
       "        text-align: right;\n",
       "    }\n",
       "</style>\n",
       "<table border=\"1\" class=\"dataframe\">\n",
       "  <thead>\n",
       "    <tr style=\"text-align: right;\">\n",
       "      <th></th>\n",
       "      <th>clientid</th>\n",
       "      <th>income</th>\n",
       "      <th>age</th>\n",
       "      <th>loan</th>\n",
       "      <th>default</th>\n",
       "      <th>age_bucket</th>\n",
       "    </tr>\n",
       "  </thead>\n",
       "  <tbody>\n",
       "    <tr>\n",
       "      <th>0</th>\n",
       "      <td>1</td>\n",
       "      <td>66155.92510</td>\n",
       "      <td>59.017015</td>\n",
       "      <td>8106.532131</td>\n",
       "      <td>0</td>\n",
       "      <td>Young</td>\n",
       "    </tr>\n",
       "    <tr>\n",
       "      <th>1</th>\n",
       "      <td>2</td>\n",
       "      <td>34415.15397</td>\n",
       "      <td>48.117153</td>\n",
       "      <td>6564.745018</td>\n",
       "      <td>0</td>\n",
       "      <td>Young</td>\n",
       "    </tr>\n",
       "    <tr>\n",
       "      <th>2</th>\n",
       "      <td>3</td>\n",
       "      <td>57317.17006</td>\n",
       "      <td>63.108049</td>\n",
       "      <td>8020.953296</td>\n",
       "      <td>0</td>\n",
       "      <td>Young</td>\n",
       "    </tr>\n",
       "    <tr>\n",
       "      <th>3</th>\n",
       "      <td>4</td>\n",
       "      <td>42709.53420</td>\n",
       "      <td>45.751972</td>\n",
       "      <td>6103.642260</td>\n",
       "      <td>0</td>\n",
       "      <td>Young</td>\n",
       "    </tr>\n",
       "    <tr>\n",
       "      <th>4</th>\n",
       "      <td>5</td>\n",
       "      <td>66952.68885</td>\n",
       "      <td>18.584336</td>\n",
       "      <td>8770.099235</td>\n",
       "      <td>1</td>\n",
       "      <td>Young</td>\n",
       "    </tr>\n",
       "    <tr>\n",
       "      <th>...</th>\n",
       "      <td>...</td>\n",
       "      <td>...</td>\n",
       "      <td>...</td>\n",
       "      <td>...</td>\n",
       "      <td>...</td>\n",
       "      <td>...</td>\n",
       "    </tr>\n",
       "    <tr>\n",
       "      <th>1995</th>\n",
       "      <td>1996</td>\n",
       "      <td>59221.04487</td>\n",
       "      <td>48.518179</td>\n",
       "      <td>1926.729397</td>\n",
       "      <td>0</td>\n",
       "      <td>Old</td>\n",
       "    </tr>\n",
       "    <tr>\n",
       "      <th>1996</th>\n",
       "      <td>1997</td>\n",
       "      <td>69516.12757</td>\n",
       "      <td>23.162104</td>\n",
       "      <td>3503.176156</td>\n",
       "      <td>0</td>\n",
       "      <td>Old</td>\n",
       "    </tr>\n",
       "    <tr>\n",
       "      <th>1997</th>\n",
       "      <td>1998</td>\n",
       "      <td>44311.44926</td>\n",
       "      <td>28.017167</td>\n",
       "      <td>5522.786693</td>\n",
       "      <td>1</td>\n",
       "      <td>Old</td>\n",
       "    </tr>\n",
       "    <tr>\n",
       "      <th>1998</th>\n",
       "      <td>1999</td>\n",
       "      <td>43756.05660</td>\n",
       "      <td>63.971796</td>\n",
       "      <td>1622.722598</td>\n",
       "      <td>0</td>\n",
       "      <td>Old</td>\n",
       "    </tr>\n",
       "    <tr>\n",
       "      <th>1999</th>\n",
       "      <td>2000</td>\n",
       "      <td>69436.57955</td>\n",
       "      <td>56.152617</td>\n",
       "      <td>7378.833599</td>\n",
       "      <td>0</td>\n",
       "      <td>Old</td>\n",
       "    </tr>\n",
       "  </tbody>\n",
       "</table>\n",
       "<p>1975 rows × 6 columns</p>\n",
       "</div>"
      ],
      "text/plain": [
       "      clientid       income        age         loan  default age_bucket\n",
       "0            1  66155.92510  59.017015  8106.532131        0      Young\n",
       "1            2  34415.15397  48.117153  6564.745018        0      Young\n",
       "2            3  57317.17006  63.108049  8020.953296        0      Young\n",
       "3            4  42709.53420  45.751972  6103.642260        0      Young\n",
       "4            5  66952.68885  18.584336  8770.099235        1      Young\n",
       "...        ...          ...        ...          ...      ...        ...\n",
       "1995      1996  59221.04487  48.518179  1926.729397        0        Old\n",
       "1996      1997  69516.12757  23.162104  3503.176156        0        Old\n",
       "1997      1998  44311.44926  28.017167  5522.786693        1        Old\n",
       "1998      1999  43756.05660  63.971796  1622.722598        0        Old\n",
       "1999      2000  69436.57955  56.152617  7378.833599        0        Old\n",
       "\n",
       "[1975 rows x 6 columns]"
      ]
     },
     "execution_count": 153,
     "metadata": {},
     "output_type": "execute_result"
    }
   ],
   "source": [
    "cleaned_data_2 = cleaned_data.loc[(cleaned_data['loan'] > 100)]\n",
    "cleaned_data_2"
   ]
  },
  {
   "cell_type": "code",
   "execution_count": 154,
   "id": "4a37605f-6fa8-4aea-952b-cb4aa9365576",
   "metadata": {
    "tags": []
   },
   "outputs": [
    {
     "data": {
      "text/plain": [
       "<Axes: >"
      ]
     },
     "execution_count": 154,
     "metadata": {},
     "output_type": "execute_result"
    },
    {
     "data": {
      "image/png": "[encoded data removed]",
      "text/plain": [
       "<Figure size 640x480 with 1 Axes>"
      ]
     },
     "metadata": {},
     "output_type": "display_data"
    }
   ],
   "source": [
    "cleaned_data_2['loan'].plot(kind='box')"
   ]
  },
  {
   "cell_type": "markdown",
   "id": "7c0df10a-0667-4156-bf63-8f0bad152c38",
   "metadata": {},
   "source": [
    "Distribution of loan data is not normal"
   ]
  },
  {
   "cell_type": "code",
   "execution_count": 155,
   "id": "6c2a77ac-4dc4-4769-acf2-06406612a5ed",
   "metadata": {
    "tags": []
   },
   "outputs": [
    {
     "data": {
      "text/plain": [
       "<Axes: >"
      ]
     },
     "execution_count": 155,
     "metadata": {},
     "output_type": "execute_result"
    },
    {
     "data": {
      "image/png": "[encoded data removed]",
      "text/plain": [
       "<Figure size 640x480 with 1 Axes>"
      ]
     },
     "metadata": {},
     "output_type": "display_data"
    }
   ],
   "source": [
    "cleaned_data_2['income'].plot(kind='box')"
   ]
  },
  {
   "cell_type": "code",
   "execution_count": 156,
   "id": "77a222e1-ae0f-4501-b08e-effb5e939bd9",
   "metadata": {
    "tags": []
   },
   "outputs": [
    {
     "data": {
      "text/plain": [
       "<Axes: xlabel='age_bucket'>"
      ]
     },
     "execution_count": 156,
     "metadata": {},
     "output_type": "execute_result"
    },
    {
     "data": {
      "image/png": "[encoded data removed]",
      "text/plain": [
       "<Figure size 640x480 with 1 Axes>"
      ]
     },
     "metadata": {},
     "output_type": "display_data"
    }
   ],
   "source": [
    "plot = pd.crosstab(cleaned_data_2['age_bucket'], cleaned_data_2['default'])\n",
    "plot.plot(kind='bar', stacked=True)"
   ]
  },
  {
   "cell_type": "code",
   "execution_count": 157,
   "id": "c4de4cc9-69f0-4f1a-8e51-86e1bdc1d9d7",
   "metadata": {
    "tags": []
   },
   "outputs": [
    {
     "data": {
      "text/html": [
       "<div>\n",
       "<style scoped>\n",
       "    .dataframe tbody tr th:only-of-type {\n",
       "        vertical-align: middle;\n",
       "    }\n",
       "\n",
       "    .dataframe tbody tr th {\n",
       "        vertical-align: top;\n",
       "    }\n",
       "\n",
       "    .dataframe thead th {\n",
       "        text-align: right;\n",
       "    }\n",
       "</style>\n",
       "<table border=\"1\" class=\"dataframe\">\n",
       "  <thead>\n",
       "    <tr style=\"text-align: right;\">\n",
       "      <th>default</th>\n",
       "      <th>0</th>\n",
       "      <th>1</th>\n",
       "    </tr>\n",
       "    <tr>\n",
       "      <th>age_bucket</th>\n",
       "      <th></th>\n",
       "      <th></th>\n",
       "    </tr>\n",
       "  </thead>\n",
       "  <tbody>\n",
       "    <tr>\n",
       "      <th>Middle</th>\n",
       "      <td>17</td>\n",
       "      <td>2</td>\n",
       "    </tr>\n",
       "    <tr>\n",
       "      <th>Old</th>\n",
       "      <td>1647</td>\n",
       "      <td>279</td>\n",
       "    </tr>\n",
       "    <tr>\n",
       "      <th>Young</th>\n",
       "      <td>28</td>\n",
       "      <td>2</td>\n",
       "    </tr>\n",
       "  </tbody>\n",
       "</table>\n",
       "</div>"
      ],
      "text/plain": [
       "default        0    1\n",
       "age_bucket           \n",
       "Middle        17    2\n",
       "Old         1647  279\n",
       "Young         28    2"
      ]
     },
     "execution_count": 157,
     "metadata": {},
     "output_type": "execute_result"
    }
   ],
   "source": [
    "plot"
   ]
  },
  {
   "cell_type": "markdown",
   "id": "02e3bba2-c269-438a-87c1-3f5c887b1534",
   "metadata": {},
   "source": [
    "Distribution for income is normal"
   ]
  },
  {
   "cell_type": "code",
   "execution_count": 158,
   "id": "be87f162-dccc-4ba4-a328-df1da8eaeedf",
   "metadata": {
    "tags": []
   },
   "outputs": [
    {
     "data": {
      "text/plain": [
       "<Axes: xlabel='age_bucket', ylabel='income'>"
      ]
     },
     "execution_count": 158,
     "metadata": {},
     "output_type": "execute_result"
    },
    {
     "data": {
      "image/png": "[encoded data removed]",
      "text/plain": [
       "<Figure size 640x480 with 1 Axes>"
      ]
     },
     "metadata": {},
     "output_type": "display_data"
    }
   ],
   "source": [
    "sns.boxplot(y=cleaned_data_2['income'], x = cleaned_data_2['age_bucket'])"
   ]
  },
  {
   "cell_type": "code",
   "execution_count": 159,
   "id": "927dca1d-96e7-4dab-8c19-909d85f62115",
   "metadata": {
    "tags": []
   },
   "outputs": [
    {
     "data": {
      "text/plain": [
       "<Axes: xlabel='age_bucket', ylabel='loan'>"
      ]
     },
     "execution_count": 159,
     "metadata": {},
     "output_type": "execute_result"
    },
    {
     "data": {
      "image/png": "[encoded data removed]",
      "text/plain": [
       "<Figure size 640x480 with 1 Axes>"
      ]
     },
     "metadata": {},
     "output_type": "display_data"
    }
   ],
   "source": [
    "sns.boxplot(y=cleaned_data_2['loan'], x = cleaned_data_2['age_bucket'])"
   ]
  },
  {
   "cell_type": "markdown",
   "id": "8dad5621-f4ff-488a-b3bd-29c0881513a8",
   "metadata": {},
   "source": [
    "- We can see that income amounts remain relatively similar (we could test using ANOVA to see if there is a statistical significance in one more groups being different).\n",
    "- Yet, when we look at loan amounts it seems that old age groups tend to get larger loan amount as compared to young and middle age groups\n",
    "- Another interesting insight is that middle age groups tend to get smaller loan"
   ]
  },
  {
   "cell_type": "markdown",
   "id": "dd76d17d-c7f0-4e42-b910-b8f1d0aac2eb",
   "metadata": {},
   "source": [
    "Let's now build a risk model which predicts whether we get a true or false classification for their credit ratings"
   ]
  },
  {
   "cell_type": "code",
   "execution_count": 160,
   "id": "c8d6df50-5cf9-428e-8858-8483725edb29",
   "metadata": {
    "tags": []
   },
   "outputs": [],
   "source": [
    "X = cleaned_data_2[['income', 'loan', 'age']]\n",
    "y = cleaned_data_2['default']"
   ]
  },
  {
   "cell_type": "code",
   "execution_count": 161,
   "id": "86217237-1255-4762-8a3f-8848ba752c93",
   "metadata": {
    "tags": []
   },
   "outputs": [],
   "source": [
    "#split data into train and test sets\n",
    "\n",
    "X_train, X_test, y_train, y_test = train_test_split(X, y, test_size=0.2, random_state=42)"
   ]
  },
  {
   "cell_type": "code",
   "execution_count": 162,
   "id": "d78d614f-72f9-42fa-a6ed-a5a596405bed",
   "metadata": {
    "tags": []
   },
   "outputs": [
    {
     "data": {
      "text/html": [
       "<div>\n",
       "<style scoped>\n",
       "    .dataframe tbody tr th:only-of-type {\n",
       "        vertical-align: middle;\n",
       "    }\n",
       "\n",
       "    .dataframe tbody tr th {\n",
       "        vertical-align: top;\n",
       "    }\n",
       "\n",
       "    .dataframe thead th {\n",
       "        text-align: right;\n",
       "    }\n",
       "</style>\n",
       "<table border=\"1\" class=\"dataframe\">\n",
       "  <thead>\n",
       "    <tr style=\"text-align: right;\">\n",
       "      <th></th>\n",
       "      <th>income</th>\n",
       "      <th>loan</th>\n",
       "      <th>age</th>\n",
       "    </tr>\n",
       "  </thead>\n",
       "  <tbody>\n",
       "    <tr>\n",
       "      <th>204</th>\n",
       "      <td>29445.51050</td>\n",
       "      <td>1758.881865</td>\n",
       "      <td>28.445677</td>\n",
       "    </tr>\n",
       "    <tr>\n",
       "      <th>1003</th>\n",
       "      <td>23717.56785</td>\n",
       "      <td>1530.090242</td>\n",
       "      <td>49.325770</td>\n",
       "    </tr>\n",
       "    <tr>\n",
       "      <th>1665</th>\n",
       "      <td>48414.25154</td>\n",
       "      <td>2105.709505</td>\n",
       "      <td>21.953590</td>\n",
       "    </tr>\n",
       "    <tr>\n",
       "      <th>340</th>\n",
       "      <td>52945.54779</td>\n",
       "      <td>6262.007945</td>\n",
       "      <td>54.631915</td>\n",
       "    </tr>\n",
       "    <tr>\n",
       "      <th>1359</th>\n",
       "      <td>22001.31745</td>\n",
       "      <td>2155.812173</td>\n",
       "      <td>31.617285</td>\n",
       "    </tr>\n",
       "    <tr>\n",
       "      <th>...</th>\n",
       "      <td>...</td>\n",
       "      <td>...</td>\n",
       "      <td>...</td>\n",
       "    </tr>\n",
       "    <tr>\n",
       "      <th>1145</th>\n",
       "      <td>49032.66241</td>\n",
       "      <td>1777.953131</td>\n",
       "      <td>54.556072</td>\n",
       "    </tr>\n",
       "    <tr>\n",
       "      <th>1312</th>\n",
       "      <td>60856.83099</td>\n",
       "      <td>10238.496300</td>\n",
       "      <td>37.070501</td>\n",
       "    </tr>\n",
       "    <tr>\n",
       "      <th>872</th>\n",
       "      <td>60016.74099</td>\n",
       "      <td>1522.646768</td>\n",
       "      <td>22.738603</td>\n",
       "    </tr>\n",
       "    <tr>\n",
       "      <th>1479</th>\n",
       "      <td>38423.08429</td>\n",
       "      <td>3676.568354</td>\n",
       "      <td>29.209119</td>\n",
       "    </tr>\n",
       "    <tr>\n",
       "      <th>1141</th>\n",
       "      <td>60567.42444</td>\n",
       "      <td>571.932935</td>\n",
       "      <td>40.041222</td>\n",
       "    </tr>\n",
       "  </tbody>\n",
       "</table>\n",
       "<p>1580 rows × 3 columns</p>\n",
       "</div>"
      ],
      "text/plain": [
       "           income          loan        age\n",
       "204   29445.51050   1758.881865  28.445677\n",
       "1003  23717.56785   1530.090242  49.325770\n",
       "1665  48414.25154   2105.709505  21.953590\n",
       "340   52945.54779   6262.007945  54.631915\n",
       "1359  22001.31745   2155.812173  31.617285\n",
       "...           ...           ...        ...\n",
       "1145  49032.66241   1777.953131  54.556072\n",
       "1312  60856.83099  10238.496300  37.070501\n",
       "872   60016.74099   1522.646768  22.738603\n",
       "1479  38423.08429   3676.568354  29.209119\n",
       "1141  60567.42444    571.932935  40.041222\n",
       "\n",
       "[1580 rows x 3 columns]"
      ]
     },
     "execution_count": 162,
     "metadata": {},
     "output_type": "execute_result"
    }
   ],
   "source": [
    "X_train"
   ]
  },
  {
   "cell_type": "code",
   "execution_count": 163,
   "id": "4d5bdd6b-b36b-4eff-aaff-aa134d2dfa75",
   "metadata": {
    "tags": []
   },
   "outputs": [
    {
     "data": {
      "text/plain": [
       "204     0\n",
       "1003    0\n",
       "1665    0\n",
       "340     0\n",
       "1359    0\n",
       "       ..\n",
       "1145    0\n",
       "1312    0\n",
       "872     0\n",
       "1479    0\n",
       "1141    0\n",
       "Name: default, Length: 1580, dtype: int64"
      ]
     },
     "execution_count": 163,
     "metadata": {},
     "output_type": "execute_result"
    }
   ],
   "source": [
    "y_train"
   ]
  },
  {
   "cell_type": "code",
   "execution_count": 164,
   "id": "dea91e3a-303c-440f-b4a0-6224db98bcdd",
   "metadata": {
    "tags": []
   },
   "outputs": [
    {
     "data": {
      "text/html": [
       "<style>#sk-container-id-8 {color: black;}#sk-container-id-8 pre{padding: 0;}#sk-container-id-8 div.sk-toggleable {background-color: white;}#sk-container-id-8 label.sk-toggleable__label {cursor: pointer;display: block;width: 100%;margin-bottom: 0;padding: 0.3em;box-sizing: border-box;text-align: center;}#sk-container-id-8 label.sk-toggleable__label-arrow:before {content: \"▸\";float: left;margin-right: 0.25em;color: #696969;}#sk-container-id-8 label.sk-toggleable__label-arrow:hover:before {color: black;}#sk-container-id-8 div.sk-estimator:hover label.sk-toggleable__label-arrow:before {color: black;}#sk-container-id-8 div.sk-toggleable__content {max-height: 0;max-width: 0;overflow: hidden;text-align: left;background-color: #f0f8ff;}#sk-container-id-8 div.sk-toggleable__content pre {margin: 0.2em;color: black;border-radius: 0.25em;background-color: #f0f8ff;}#sk-container-id-8 input.sk-toggleable__control:checked~div.sk-toggleable__content {max-height: 200px;max-width: 100%;overflow: auto;}#sk-container-id-8 input.sk-toggleable__control:checked~label.sk-toggleable__label-arrow:before {content: \"▾\";}#sk-container-id-8 div.sk-estimator input.sk-toggleable__control:checked~label.sk-toggleable__label {background-color: #d4ebff;}#sk-container-id-8 div.sk-label input.sk-toggleable__control:checked~label.sk-toggleable__label {background-color: #d4ebff;}#sk-container-id-8 input.sk-hidden--visually {border: 0;clip: rect(1px 1px 1px 1px);clip: rect(1px, 1px, 1px, 1px);height: 1px;margin: -1px;overflow: hidden;padding: 0;position: absolute;width: 1px;}#sk-container-id-8 div.sk-estimator {font-family: monospace;background-color: #f0f8ff;border: 1px dotted black;border-radius: 0.25em;box-sizing: border-box;margin-bottom: 0.5em;}#sk-container-id-8 div.sk-estimator:hover {background-color: #d4ebff;}#sk-container-id-8 div.sk-parallel-item::after {content: \"\";width: 100%;border-bottom: 1px solid gray;flex-grow: 1;}#sk-container-id-8 div.sk-label:hover label.sk-toggleable__label {background-color: #d4ebff;}#sk-container-id-8 div.sk-serial::before {content: \"\";position: absolute;border-left: 1px solid gray;box-sizing: border-box;top: 0;bottom: 0;left: 50%;z-index: 0;}#sk-container-id-8 div.sk-serial {display: flex;flex-direction: column;align-items: center;background-color: white;padding-right: 0.2em;padding-left: 0.2em;position: relative;}#sk-container-id-8 div.sk-item {position: relative;z-index: 1;}#sk-container-id-8 div.sk-parallel {display: flex;align-items: stretch;justify-content: center;background-color: white;position: relative;}#sk-container-id-8 div.sk-item::before, #sk-container-id-8 div.sk-parallel-item::before {content: \"\";position: absolute;border-left: 1px solid gray;box-sizing: border-box;top: 0;bottom: 0;left: 50%;z-index: -1;}#sk-container-id-8 div.sk-parallel-item {display: flex;flex-direction: column;z-index: 1;position: relative;background-color: white;}#sk-container-id-8 div.sk-parallel-item:first-child::after {align-self: flex-end;width: 50%;}#sk-container-id-8 div.sk-parallel-item:last-child::after {align-self: flex-start;width: 50%;}#sk-container-id-8 div.sk-parallel-item:only-child::after {width: 0;}#sk-container-id-8 div.sk-dashed-wrapped {border: 1px dashed gray;margin: 0 0.4em 0.5em 0.4em;box-sizing: border-box;padding-bottom: 0.4em;background-color: white;}#sk-container-id-8 div.sk-label label {font-family: monospace;font-weight: bold;display: inline-block;line-height: 1.2em;}#sk-container-id-8 div.sk-label-container {text-align: center;}#sk-container-id-8 div.sk-container {/* jupyter's `normalize.less` sets `[hidden] { display: none; }` but bootstrap.min.css set `[hidden] { display: none !important; }` so we also need the `!important` here to be able to override the default hidden behavior on the sphinx rendered scikit-learn.org. See: https://github.com/scikit-learn/scikit-learn/issues/21755 */display: inline-block !important;position: relative;}#sk-container-id-8 div.sk-text-repr-fallback {display: none;}</style><div id=\"sk-container-id-8\" class=\"sk-top-container\"><div class=\"sk-text-repr-fallback\"><pre>LogisticRegression(C=1, max_iter=10, random_state=42, solver=&#x27;newton-cholesky&#x27;)</pre><b>In a Jupyter environment, please rerun this cell to show the HTML representation or trust the notebook. <br />On GitHub, the HTML representation is unable to render, please try loading this page with nbviewer.org.</b></div><div class=\"sk-container\" hidden><div class=\"sk-item\"><div class=\"sk-estimator sk-toggleable\"><input class=\"sk-toggleable__control sk-hidden--visually\" id=\"sk-estimator-id-8\" type=\"checkbox\" checked><label for=\"sk-estimator-id-8\" class=\"sk-toggleable__label sk-toggleable__label-arrow\">LogisticRegression</label><div class=\"sk-toggleable__content\"><pre>LogisticRegression(C=1, max_iter=10, random_state=42, solver=&#x27;newton-cholesky&#x27;)</pre></div></div></div></div></div>"
      ],
      "text/plain": [
       "LogisticRegression(C=1, max_iter=10, random_state=42, solver='newton-cholesky')"
      ]
     },
     "execution_count": 164,
     "metadata": {},
     "output_type": "execute_result"
    }
   ],
   "source": [
    "lgr = LogisticRegression(C = 1, max_iter = 10, solver='newton-cholesky',random_state=42)\n",
    "lgr.fit(X_train, y_train)"
   ]
  },
  {
   "cell_type": "markdown",
   "id": "5c60a48b-1e7d-4fb2-8eca-7354d929dd5a",
   "metadata": {},
   "source": [
    "Let's use cross validation to develop some predictions and test using a confusion matrix"
   ]
  },
  {
   "cell_type": "code",
   "execution_count": 165,
   "id": "6bdc3345-597b-4dbb-8e3e-c473e67abaf7",
   "metadata": {
    "tags": []
   },
   "outputs": [],
   "source": [
    "y_pred_cv = cross_val_predict(lgr, X_train, y_train, cv=3)"
   ]
  },
  {
   "cell_type": "code",
   "execution_count": 166,
   "id": "9f07dc17-6604-4c47-8051-fba3d531998d",
   "metadata": {
    "tags": []
   },
   "outputs": [
    {
     "data": {
      "text/plain": [
       "Text(0.5, 1.0, 'Confusion Matrix')"
      ]
     },
     "execution_count": 166,
     "metadata": {},
     "output_type": "execute_result"
    },
    {
     "data": {
      "image/png": "[encoded data removed]",
      "text/plain": [
       "<Figure size 640x480 with 2 Axes>"
      ]
     },
     "metadata": {},
     "output_type": "display_data"
    }
   ],
   "source": [
    "cm = confusion_matrix(y_train, y_pred_cv)\n",
    "\n",
    "ax= plt.subplot()\n",
    "sns.heatmap(cm, annot=True, fmt='g', ax=ax);  #annot=True to annotate cells, ftm='g' to disable scientific notation\n",
    "\n",
    "# labels, title and ticks\n",
    "ax.set_xlabel('Predicted labels')\n",
    "ax.set_ylabel('True labels') \n",
    "ax.set_title('Confusion Matrix')"
   ]
  },
  {
   "cell_type": "code",
   "execution_count": 167,
   "id": "12198f1b-3e9e-4147-8c6c-044935f66202",
   "metadata": {
    "tags": []
   },
   "outputs": [
    {
     "name": "stdout",
     "output_type": "stream",
     "text": [
      "Precision 0.8189655172413793 \n",
      " Recall 0.7983193277310925\n"
     ]
    }
   ],
   "source": [
    "from sklearn.metrics import precision_score, recall_score\n",
    "\n",
    "precision_score_lr = precision_score(y_train, y_pred_cv)\n",
    "recall_score_lr = recall_score(y_train, y_pred_cv)\n",
    "print(\"Precision \" + precision_score_lr.astype(str), \"\\n\", \"Recall \" + recall_score_lr.astype(str))"
   ]
  },
  {
   "cell_type": "code",
   "execution_count": 168,
   "id": "241927c7-b086-485f-9966-2ee482ff5186",
   "metadata": {
    "tags": []
   },
   "outputs": [],
   "source": [
    "y_scores = cross_val_predict(lgr, X_train, y_train, cv = 3, method='decision_function')"
   ]
  },
  {
   "cell_type": "code",
   "execution_count": 169,
   "id": "f1ad9a49-c7ee-40ba-ba99-ed55d3f0ac7c",
   "metadata": {
    "tags": []
   },
   "outputs": [
    {
     "name": "stdout",
     "output_type": "stream",
     "text": [
      "[0.15063291 0.15072831 0.15082383 ... 1.         1.         1.        ]\n",
      "[1.         1.         1.         ... 0.00840336 0.00420168 0.        ]\n",
      "[-27.69522272 -27.03684669 -27.01541382 ...   8.47153963   8.66851275\n",
      "   9.90465208]\n"
     ]
    }
   ],
   "source": [
    "from sklearn.metrics import precision_recall_curve\n",
    "\n",
    "precisions, recall, thresholds = precision_recall_curve(y_train, y_scores)\n",
    "print(precisions)\n",
    "print(recall)\n",
    "print(thresholds)"
   ]
  },
  {
   "cell_type": "code",
   "execution_count": 170,
   "id": "eb65e666-78fa-4369-b055-878f960c347a",
   "metadata": {
    "tags": []
   },
   "outputs": [],
   "source": [
    "def plot_precision_recall_vs_threshold(precisions, recalls, thresholds):\n",
    "    plt.plot(thresholds, precisions[:-1], \"b--\", label = 'Precisions')\n",
    "    plt.plot(thresholds, recalls[:-1], \"g-\", label = 'Recall')"
   ]
  },
  {
   "cell_type": "code",
   "execution_count": 171,
   "id": "d1d29fa0-c885-41ab-a35c-62a2b1d0b80a",
   "metadata": {
    "tags": []
   },
   "outputs": [
    {
     "data": {
      "image/png": "[encoded data removed]",
      "text/plain": [
       "<Figure size 640x480 with 1 Axes>"
      ]
     },
     "metadata": {},
     "output_type": "display_data"
    }
   ],
   "source": [
    "#Decision boundaries\n",
    "plot_precision_recall_vs_threshold(precisions, recall, thresholds)"
   ]
  },
  {
   "cell_type": "code",
   "execution_count": 172,
   "id": "5c0ba159-3aad-46e3-9c71-f3cf3a3be056",
   "metadata": {
    "tags": []
   },
   "outputs": [
    {
     "data": {
      "text/plain": [
       "[<matplotlib.lines.Line2D at 0x2dd385b71d0>]"
      ]
     },
     "execution_count": 172,
     "metadata": {},
     "output_type": "execute_result"
    },
    {
     "data": {
      "image/png": "[encoded data removed]",
      "text/plain": [
       "<Figure size 640x480 with 1 Axes>"
      ]
     },
     "metadata": {},
     "output_type": "display_data"
    }
   ],
   "source": [
    "#PR Curve\n",
    "plt.plot(precisions, recall)"
   ]
  },
  {
   "cell_type": "code",
   "execution_count": 173,
   "id": "d37256bd-13a5-4bcd-b025-4d0e8ea8a97b",
   "metadata": {
    "tags": []
   },
   "outputs": [],
   "source": [
    "from sklearn.metrics import roc_curve\n",
    "\n",
    "fpr, tpr, thresholds = roc_curve(y_train, y_pred_cv)"
   ]
  },
  {
   "cell_type": "code",
   "execution_count": 174,
   "id": "1a180b25-4d4a-4d2f-90be-c6824034f591",
   "metadata": {
    "tags": []
   },
   "outputs": [
    {
     "data": {
      "text/plain": [
       "[<matplotlib.lines.Line2D at 0x2dd3800ea50>]"
      ]
     },
     "execution_count": 174,
     "metadata": {},
     "output_type": "execute_result"
    },
    {
     "data": {
      "image/png": "[encoded data removed]",
      "text/plain": [
       "<Figure size 640x480 with 1 Axes>"
      ]
     },
     "metadata": {},
     "output_type": "display_data"
    }
   ],
   "source": [
    "plt.plot(fpr, tpr)"
   ]
  },
  {
   "cell_type": "code",
   "execution_count": 175,
   "id": "96b8b429-ea00-4ba4-9b66-85051517b170",
   "metadata": {
    "tags": []
   },
   "outputs": [
    {
     "data": {
      "text/plain": [
       "0.984107502911746"
      ]
     },
     "execution_count": 175,
     "metadata": {},
     "output_type": "execute_result"
    }
   ],
   "source": [
    "from sklearn.metrics import roc_auc_score\n",
    "\n",
    "roc_auc_score(y_train, y_scores)"
   ]
  },
  {
   "cell_type": "markdown",
   "id": "9444f52c-caf2-4f66-a7ac-82a44483bc1f",
   "metadata": {},
   "source": [
    "Let's grid search to see whether we can further tune our model\n",
    "\n",
    "<b>NOTE: best params are: C = 1, max_iter=10, solver='newton-cholevsky'</b>"
   ]
  },
  {
   "cell_type": "code",
   "execution_count": null,
   "id": "a832526f-241f-4ccc-9b79-d95a50e2c45a",
   "metadata": {
    "tags": []
   },
   "outputs": [],
   "source": [
    "from sklearn.model_selection import GridSearchCV\n",
    "gs_lgr = GridSearchCV(lgr,\n",
    "                  param_grid = {'solver': ('lbfgs', 'iblinear', 'ton-cg', 'newton-cholesky', 'sag', 'saga'),\n",
    "                                'C': range(1, 5, 1),\n",
    "                                'max_iter': range(10,1000,10)},\n",
    "                  scoring='accuracy', verbose = 10)\n",
    "\n",
    "gs_lgr.fit(X_train, y_train)\n",
    "\n",
    "print(gs_lgr.best_params_)"
   ]
  },
  {
   "cell_type": "markdown",
   "id": "5ed77960-4874-47ae-aca9-6ec33701cd3b",
   "metadata": {},
   "source": [
    "Let's now test using our real test data"
   ]
  },
  {
   "cell_type": "code",
   "execution_count": 176,
   "id": "58415e8e-7ddf-49e7-b070-9fd6e27f9c85",
   "metadata": {
    "tags": []
   },
   "outputs": [],
   "source": [
    "y_pred_normal = lgr.predict(X_test)"
   ]
  },
  {
   "cell_type": "code",
   "execution_count": 177,
   "id": "2492835c-150a-45c3-b1ae-e3e687ec6337",
   "metadata": {
    "tags": []
   },
   "outputs": [
    {
     "data": {
      "text/plain": [
       "array([[335,  15],\n",
       "       [  7,  38]], dtype=int64)"
      ]
     },
     "execution_count": 177,
     "metadata": {},
     "output_type": "execute_result"
    }
   ],
   "source": [
    "lgr_norm = confusion_matrix(y_test, y_pred_normal)\n",
    "lgr_norm"
   ]
  },
  {
   "cell_type": "code",
   "execution_count": 178,
   "id": "b2235247-53f1-4755-a905-5b43bdbfaf44",
   "metadata": {
    "tags": []
   },
   "outputs": [
    {
     "data": {
      "text/plain": [
       "1847    0\n",
       "1757    0\n",
       "687     0\n",
       "359     0\n",
       "1813    0\n",
       "       ..\n",
       "1608    0\n",
       "76      0\n",
       "774     0\n",
       "265     0\n",
       "55      0\n",
       "Name: default, Length: 395, dtype: int64"
      ]
     },
     "execution_count": 178,
     "metadata": {},
     "output_type": "execute_result"
    }
   ],
   "source": [
    "y_test"
   ]
  },
  {
   "cell_type": "code",
   "execution_count": 179,
   "id": "0899ba64-6314-4538-8a92-dd4c73065198",
   "metadata": {
    "tags": []
   },
   "outputs": [
    {
     "data": {
      "text/plain": [
       "array([0, 0, 0, 0, 0, 0, 0, 1, 0, 1, 0, 0, 0, 0, 0, 0, 0, 0, 1, 0, 0, 0,\n",
       "       0, 0, 0, 0, 0, 0, 0, 0, 0, 0, 0, 0, 0, 0, 0, 0, 0, 1, 0, 0, 0, 0,\n",
       "       0, 0, 1, 1, 0, 1, 1, 0, 1, 0, 0, 0, 0, 0, 0, 0, 0, 0, 0, 0, 0, 1,\n",
       "       0, 0, 0, 0, 0, 0, 0, 0, 0, 1, 0, 0, 0, 0, 1, 0, 0, 0, 0, 0, 0, 0,\n",
       "       0, 0, 0, 0, 0, 0, 0, 1, 0, 0, 0, 0, 0, 0, 0, 0, 0, 0, 0, 0, 0, 0,\n",
       "       0, 1, 0, 0, 0, 1, 1, 1, 0, 0, 1, 0, 0, 0, 0, 0, 0, 0, 0, 0, 0, 0,\n",
       "       0, 0, 0, 0, 0, 0, 1, 0, 0, 0, 0, 0, 0, 0, 0, 0, 0, 0, 0, 0, 0, 0,\n",
       "       1, 0, 0, 0, 0, 0, 1, 0, 0, 0, 0, 0, 0, 0, 0, 0, 1, 0, 0, 0, 0, 0,\n",
       "       0, 0, 0, 0, 0, 0, 0, 0, 0, 1, 0, 0, 0, 0, 0, 0, 0, 0, 0, 0, 0, 0,\n",
       "       0, 0, 0, 0, 0, 0, 0, 0, 0, 0, 0, 0, 0, 1, 0, 0, 1, 1, 0, 0, 0, 0,\n",
       "       0, 0, 0, 0, 0, 0, 0, 0, 1, 0, 1, 0, 1, 0, 0, 0, 0, 0, 0, 0, 0, 1,\n",
       "       0, 0, 0, 0, 0, 0, 0, 0, 1, 0, 0, 0, 1, 0, 0, 0, 0, 0, 0, 0, 0, 1,\n",
       "       0, 0, 0, 0, 0, 0, 0, 0, 0, 0, 0, 0, 0, 0, 0, 0, 0, 0, 0, 0, 1, 0,\n",
       "       0, 0, 0, 0, 0, 0, 0, 0, 0, 0, 0, 0, 0, 1, 1, 0, 1, 0, 0, 0, 0, 0,\n",
       "       0, 0, 0, 0, 0, 0, 0, 0, 0, 0, 0, 0, 0, 0, 1, 0, 0, 1, 1, 0, 0, 0,\n",
       "       0, 0, 0, 0, 0, 0, 0, 1, 0, 0, 0, 0, 0, 0, 0, 1, 0, 1, 0, 0, 1, 1,\n",
       "       0, 0, 0, 1, 0, 0, 0, 1, 0, 0, 0, 1, 0, 0, 0, 1, 0, 0, 1, 1, 0, 0,\n",
       "       0, 0, 0, 0, 0, 0, 0, 0, 0, 0, 0, 0, 0, 0, 1, 0, 1, 0, 0, 0, 0],\n",
       "      dtype=int64)"
      ]
     },
     "execution_count": 179,
     "metadata": {},
     "output_type": "execute_result"
    }
   ],
   "source": [
    "y_pred_normal"
   ]
  },
  {
   "cell_type": "code",
   "execution_count": 180,
   "id": "60ed8942-65e8-4825-b2fe-d2c8b851b3ba",
   "metadata": {
    "tags": []
   },
   "outputs": [
    {
     "data": {
      "text/plain": [
       "0.7169811320754716"
      ]
     },
     "execution_count": 180,
     "metadata": {},
     "output_type": "execute_result"
    }
   ],
   "source": [
    "precision = lgr_norm[1][1]/(lgr_norm[1][1] + lgr_norm[0][1])\n",
    "precision"
   ]
  },
  {
   "cell_type": "code",
   "execution_count": 181,
   "id": "64e0fa4a-e138-4076-9f0b-44c7f6411ddd",
   "metadata": {
    "tags": []
   },
   "outputs": [
    {
     "data": {
      "text/plain": [
       "0.8444444444444444"
      ]
     },
     "execution_count": 181,
     "metadata": {},
     "output_type": "execute_result"
    }
   ],
   "source": [
    "recall = lgr_norm[1][1]/(lgr_norm[1][1] + lgr_norm[1][0])\n",
    "recall"
   ]
  },
  {
   "cell_type": "code",
   "execution_count": 182,
   "id": "ebce0f7a-17be-438a-92dc-458812d84c11",
   "metadata": {
    "tags": []
   },
   "outputs": [
    {
     "data": {
      "text/plain": [
       "0.7755102040816326"
      ]
     },
     "execution_count": 182,
     "metadata": {},
     "output_type": "execute_result"
    }
   ],
   "source": [
    "from sklearn.metrics import f1_score\n",
    "f1_score(y_test, y_pred_normal)"
   ]
  },
  {
   "cell_type": "code",
   "execution_count": 183,
   "id": "26b920e4-767c-4c8f-a554-d4d2a89ef1ab",
   "metadata": {
    "tags": []
   },
   "outputs": [
    {
     "data": {
      "text/plain": [
       "0.9443037974683545"
      ]
     },
     "execution_count": 183,
     "metadata": {},
     "output_type": "execute_result"
    }
   ],
   "source": [
    "lgr.score(X_test,y_test)"
   ]
  },
  {
   "cell_type": "code",
   "execution_count": null,
   "id": "c4883ff5-5d6a-4a67-8485-01434e58ade0",
   "metadata": {},
   "outputs": [],
   "source": []
  }
 ],
 "metadata": {
  "kernelspec": {
   "display_name": "Python 3 (ipykernel)",
   "language": "python",
   "name": "python3"
  },
  "language_info": {
   "codemirror_mode": {
    "name": "ipython",
    "version": 3
   },
   "file_extension": ".py",
   "mimetype": "text/x-python",
   "name": "python",
   "nbconvert_exporter": "python",
   "pygments_lexer": "ipython3",
   "version": "3.11.5"
  }
 },
 "nbformat": 4,
 "nbformat_minor": 5
}
